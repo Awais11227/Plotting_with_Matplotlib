{
 "cells": [
  {
   "cell_type": "markdown",
   "id": "fea0827e",
   "metadata": {},
   "source": [
    "# Scatter Plot\n",
    "\n",
    "- Bivariate Analysis\n",
    "- numerical vs numerical\n",
    "- Use case - Finding correlation"
   ]
  },
  {
   "cell_type": "code",
   "execution_count": 2,
   "id": "ef8184dc",
   "metadata": {},
   "outputs": [],
   "source": [
    "# import the library\n",
    "import numpy as np\n",
    "import pandas as pd\n",
    "import matplotlib.pyplot as plt\n",
    "import seaborn as sns"
   ]
  },
  {
   "cell_type": "code",
   "execution_count": 3,
   "id": "f21c4edb",
   "metadata": {},
   "outputs": [
    {
     "data": {
      "text/plain": [
       "array([-58.        ,   3.08163265, 193.16326531, 146.24489796,\n",
       "        72.32653061, -10.59183673, 182.48979592, 196.57142857,\n",
       "        79.65306122, 170.73469388, 170.81632653, 206.89795918,\n",
       "         7.97959184,  70.06122449,   4.14285714,  -7.7755102 ,\n",
       "        -4.69387755,  18.3877551 , 234.46938776,  -3.44897959,\n",
       "        20.63265306, 146.71428571, 126.79591837, 153.87755102,\n",
       "       199.95918367,   6.04081633, 127.12244898, 263.20408163,\n",
       "       171.28571429, 291.36734694, 148.44897959, 172.53061224,\n",
       "        55.6122449 , 275.69387755, 315.7755102 , 114.85714286,\n",
       "        93.93877551, 230.02040816,  71.10204082, 305.18367347,\n",
       "       278.26530612, 253.34693878, 240.42857143,  87.51020408,\n",
       "       322.59183673, 127.67346939, 104.75510204, 134.83673469,\n",
       "       384.91836735, 127.        ])"
      ]
     },
     "execution_count": 3,
     "metadata": {},
     "output_type": "execute_result"
    }
   ],
   "source": [
    "# plt.scatter simple function\n",
    "x = np.linspace(-10,10,50)\n",
    "\n",
    "y = 10*x + 3 + np.random.randint(0,300,50)\n",
    "y"
   ]
  },
  {
   "cell_type": "code",
   "execution_count": 4,
   "id": "581ced3d",
   "metadata": {},
   "outputs": [
    {
     "data": {
      "text/plain": [
       "<matplotlib.collections.PathCollection at 0x213d5b37830>"
      ]
     },
     "execution_count": 4,
     "metadata": {},
     "output_type": "execute_result"
    },
    {
     "data": {
      "image/png": "[encoded data removed]",
      "text/plain": [
       "<Figure size 640x480 with 1 Axes>"
      ]
     },
     "metadata": {},
     "output_type": "display_data"
    }
   ],
   "source": [
    "plt.scatter(x,y)"
   ]
  },
  {
   "cell_type": "code",
   "execution_count": 12,
   "id": "9f88a2c9",
   "metadata": {},
   "outputs": [
    {
     "data": {
      "application/vnd.microsoft.datawrangler.viewer.v0+json": {
       "columns": [
        {
         "name": "index",
         "rawType": "int64",
         "type": "integer"
        },
        {
         "name": "batter",
         "rawType": "object",
         "type": "string"
        },
        {
         "name": "runs",
         "rawType": "int64",
         "type": "integer"
        },
        {
         "name": "avg",
         "rawType": "float64",
         "type": "float"
        },
        {
         "name": "strike_rate",
         "rawType": "float64",
         "type": "float"
        }
       ],
       "ref": "94af22c1-6bd1-48f8-a879-969511e03c1e",
       "rows": [
        [
         "0",
         "V Kohli",
         "6634",
         "36.25136612021858",
         "125.9779718951766"
        ],
        [
         "1",
         "S Dhawan",
         "6244",
         "34.88268156424581",
         "122.84084202242772"
        ],
        [
         "2",
         "DA Warner",
         "5883",
         "41.429577464788736",
         "136.40157662879665"
        ],
        [
         "3",
         "RG Sharma",
         "5881",
         "30.31443298969072",
         "126.96459412780656"
        ],
        [
         "4",
         "SK Raina",
         "5536",
         "32.37426900584796",
         "132.53531242518554"
        ],
        [
         "5",
         "AB de Villiers",
         "5181",
         "39.85384615384616",
         "148.58044164037855"
        ],
        [
         "6",
         "CH Gayle",
         "4997",
         "39.65873015873016",
         "142.1217292377702"
        ],
        [
         "7",
         "MS Dhoni",
         "4978",
         "39.19685039370079",
         "130.93108890057866"
        ],
        [
         "8",
         "RV Uthappa",
         "4954",
         "27.522222222222226",
         "126.15227909345556"
        ],
        [
         "9",
         "KD Karthik",
         "4377",
         "26.85276073619632",
         "129.26757235676314"
        ],
        [
         "10",
         "G Gambhir",
         "4217",
         "31.00735294117647",
         "119.66515323496029"
        ],
        [
         "11",
         "AT Rayudu",
         "4190",
         "28.89655172413793",
         "124.14814814814814"
        ],
        [
         "12",
         "AM Rahane",
         "4074",
         "30.863636363636363",
         "117.57575757575758"
        ],
        [
         "13",
         "KL Rahul",
         "3895",
         "46.9277108433735",
         "132.79918172519604"
        ],
        [
         "14",
         "SR Watson",
         "3880",
         "30.793650793650794",
         "134.1632088520055"
        ],
        [
         "15",
         "MK Pandey",
         "3657",
         "29.73170731707317",
         "117.73985833869928"
        ],
        [
         "16",
         "SV Samson",
         "3526",
         "29.1404958677686",
         "132.40705970709726"
        ],
        [
         "17",
         "KA Pollard",
         "3437",
         "28.40495867768595",
         "140.45770331017573"
        ],
        [
         "18",
         "F du Plessis",
         "3403",
         "34.37373737373738",
         "127.16741405082212"
        ],
        [
         "19",
         "YK Pathan",
         "3222",
         "29.29090909090909",
         "138.04627249357327"
        ],
        [
         "20",
         "BB McCullum",
         "2882",
         "27.71153846153846",
         "126.84859154929578"
        ],
        [
         "21",
         "RR Pant",
         "2851",
         "34.76829268292683",
         "142.55"
        ],
        [
         "22",
         "PA Patel",
         "2848",
         "22.603174603174605",
         "116.62571662571663"
        ],
        [
         "23",
         "JC Buttler",
         "2832",
         "39.333333333333336",
         "144.85933503836316"
        ],
        [
         "24",
         "SS Iyer",
         "2780",
         "31.235955056179776",
         "121.13289760348584"
        ],
        [
         "25",
         "Q de Kock",
         "2767",
         "31.804597701149422",
         "130.9512541410317"
        ],
        [
         "26",
         "Yuvraj Singh",
         "2754",
         "24.81081081081081",
         "124.78477571363842"
        ],
        [
         "27",
         "V Sehwag",
         "2728",
         "27.55555555555556",
         "148.82705946535734"
        ],
        [
         "28",
         "SA Yadav",
         "2644",
         "29.707865168539325",
         "134.0091231626964"
        ],
        [
         "29",
         "M Vijay",
         "2619",
         "25.93069306930693",
         "118.61413043478262"
        ],
        [
         "30",
         "RA Jadeja",
         "2502",
         "26.617021276595743",
         "122.10834553440704"
        ],
        [
         "31",
         "SPD Smith",
         "2495",
         "34.65277777777778",
         "124.81240620310156"
        ],
        [
         "32",
         "SE Marsh",
         "2489",
         "39.507936507936506",
         "130.10977522216413"
        ],
        [
         "33",
         "DA Miller",
         "2455",
         "36.10294117647059",
         "133.56909684439609"
        ],
        [
         "34",
         "JH Kallis",
         "2427",
         "28.55294117647059",
         "105.93627237014404"
        ],
        [
         "35",
         "WP Saha",
         "2427",
         "25.28125",
         "124.39774474628396"
        ],
        [
         "36",
         "DR Smith",
         "2385",
         "28.392857142857142",
         "132.27953410981698"
        ],
        [
         "37",
         "MA Agarwal",
         "2335",
         "22.66990291262136",
         "129.5063782584581"
        ],
        [
         "38",
         "SR Tendulkar",
         "2334",
         "33.82608695652174",
         "114.18786692759296"
        ],
        [
         "39",
         "GJ Maxwell",
         "2320",
         "25.494505494505493",
         "147.67663908338636"
        ],
        [
         "40",
         "N Rana",
         "2181",
         "27.96153846153846",
         "130.05366726296958"
        ],
        [
         "41",
         "R Dravid",
         "2174",
         "28.233766233766232",
         "113.34723670490096"
        ],
        [
         "42",
         "KS Williamson",
         "2105",
         "36.293103448275865",
         "123.31575864089046"
        ],
        [
         "43",
         "AJ Finch",
         "2092",
         "24.904761904761905",
         "123.34905660377358"
        ],
        [
         "44",
         "AC Gilchrist",
         "2069",
         "27.223684210526315",
         "133.05466237942122"
        ],
        [
         "45",
         "AD Russell",
         "2039",
         "29.985294117647054",
         "168.23432343234325"
        ],
        [
         "46",
         "JP Duminy",
         "2029",
         "39.78431372549019",
         "120.77380952380952"
        ],
        [
         "47",
         "MEK Hussey",
         "1977",
         "38.76470588235294",
         "119.96359223300972"
        ],
        [
         "48",
         "HH Pandya",
         "1972",
         "29.87878787878788",
         "140.2560455192034"
        ],
        [
         "49",
         "Shubman Gill",
         "1900",
         "32.20338983050848",
         "122.18649517684888"
        ]
       ],
       "shape": {
        "columns": 4,
        "rows": 50
       }
      },
      "text/html": [
       "<div>\n",
       "<style scoped>\n",
       "    .dataframe tbody tr th:only-of-type {\n",
       "        vertical-align: middle;\n",
       "    }\n",
       "\n",
       "    .dataframe tbody tr th {\n",
       "        vertical-align: top;\n",
       "    }\n",
       "\n",
       "    .dataframe thead th {\n",
       "        text-align: right;\n",
       "    }\n",
       "</style>\n",
       "<table border=\"1\" class=\"dataframe\">\n",
       "  <thead>\n",
       "    <tr style=\"text-align: right;\">\n",
       "      <th></th>\n",
       "      <th>batter</th>\n",
       "      <th>runs</th>\n",
       "      <th>avg</th>\n",
       "      <th>strike_rate</th>\n",
       "    </tr>\n",
       "  </thead>\n",
       "  <tbody>\n",
       "    <tr>\n",
       "      <th>0</th>\n",
       "      <td>V Kohli</td>\n",
       "      <td>6634</td>\n",
       "      <td>36.251366</td>\n",
       "      <td>125.977972</td>\n",
       "    </tr>\n",
       "    <tr>\n",
       "      <th>1</th>\n",
       "      <td>S Dhawan</td>\n",
       "      <td>6244</td>\n",
       "      <td>34.882682</td>\n",
       "      <td>122.840842</td>\n",
       "    </tr>\n",
       "    <tr>\n",
       "      <th>2</th>\n",
       "      <td>DA Warner</td>\n",
       "      <td>5883</td>\n",
       "      <td>41.429577</td>\n",
       "      <td>136.401577</td>\n",
       "    </tr>\n",
       "    <tr>\n",
       "      <th>3</th>\n",
       "      <td>RG Sharma</td>\n",
       "      <td>5881</td>\n",
       "      <td>30.314433</td>\n",
       "      <td>126.964594</td>\n",
       "    </tr>\n",
       "    <tr>\n",
       "      <th>4</th>\n",
       "      <td>SK Raina</td>\n",
       "      <td>5536</td>\n",
       "      <td>32.374269</td>\n",
       "      <td>132.535312</td>\n",
       "    </tr>\n",
       "    <tr>\n",
       "      <th>5</th>\n",
       "      <td>AB de Villiers</td>\n",
       "      <td>5181</td>\n",
       "      <td>39.853846</td>\n",
       "      <td>148.580442</td>\n",
       "    </tr>\n",
       "    <tr>\n",
       "      <th>6</th>\n",
       "      <td>CH Gayle</td>\n",
       "      <td>4997</td>\n",
       "      <td>39.658730</td>\n",
       "      <td>142.121729</td>\n",
       "    </tr>\n",
       "    <tr>\n",
       "      <th>7</th>\n",
       "      <td>MS Dhoni</td>\n",
       "      <td>4978</td>\n",
       "      <td>39.196850</td>\n",
       "      <td>130.931089</td>\n",
       "    </tr>\n",
       "    <tr>\n",
       "      <th>8</th>\n",
       "      <td>RV Uthappa</td>\n",
       "      <td>4954</td>\n",
       "      <td>27.522222</td>\n",
       "      <td>126.152279</td>\n",
       "    </tr>\n",
       "    <tr>\n",
       "      <th>9</th>\n",
       "      <td>KD Karthik</td>\n",
       "      <td>4377</td>\n",
       "      <td>26.852761</td>\n",
       "      <td>129.267572</td>\n",
       "    </tr>\n",
       "    <tr>\n",
       "      <th>10</th>\n",
       "      <td>G Gambhir</td>\n",
       "      <td>4217</td>\n",
       "      <td>31.007353</td>\n",
       "      <td>119.665153</td>\n",
       "    </tr>\n",
       "    <tr>\n",
       "      <th>11</th>\n",
       "      <td>AT Rayudu</td>\n",
       "      <td>4190</td>\n",
       "      <td>28.896552</td>\n",
       "      <td>124.148148</td>\n",
       "    </tr>\n",
       "    <tr>\n",
       "      <th>12</th>\n",
       "      <td>AM Rahane</td>\n",
       "      <td>4074</td>\n",
       "      <td>30.863636</td>\n",
       "      <td>117.575758</td>\n",
       "    </tr>\n",
       "    <tr>\n",
       "      <th>13</th>\n",
       "      <td>KL Rahul</td>\n",
       "      <td>3895</td>\n",
       "      <td>46.927711</td>\n",
       "      <td>132.799182</td>\n",
       "    </tr>\n",
       "    <tr>\n",
       "      <th>14</th>\n",
       "      <td>SR Watson</td>\n",
       "      <td>3880</td>\n",
       "      <td>30.793651</td>\n",
       "      <td>134.163209</td>\n",
       "    </tr>\n",
       "    <tr>\n",
       "      <th>15</th>\n",
       "      <td>MK Pandey</td>\n",
       "      <td>3657</td>\n",
       "      <td>29.731707</td>\n",
       "      <td>117.739858</td>\n",
       "    </tr>\n",
       "    <tr>\n",
       "      <th>16</th>\n",
       "      <td>SV Samson</td>\n",
       "      <td>3526</td>\n",
       "      <td>29.140496</td>\n",
       "      <td>132.407060</td>\n",
       "    </tr>\n",
       "    <tr>\n",
       "      <th>17</th>\n",
       "      <td>KA Pollard</td>\n",
       "      <td>3437</td>\n",
       "      <td>28.404959</td>\n",
       "      <td>140.457703</td>\n",
       "    </tr>\n",
       "    <tr>\n",
       "      <th>18</th>\n",
       "      <td>F du Plessis</td>\n",
       "      <td>3403</td>\n",
       "      <td>34.373737</td>\n",
       "      <td>127.167414</td>\n",
       "    </tr>\n",
       "    <tr>\n",
       "      <th>19</th>\n",
       "      <td>YK Pathan</td>\n",
       "      <td>3222</td>\n",
       "      <td>29.290909</td>\n",
       "      <td>138.046272</td>\n",
       "    </tr>\n",
       "    <tr>\n",
       "      <th>20</th>\n",
       "      <td>BB McCullum</td>\n",
       "      <td>2882</td>\n",
       "      <td>27.711538</td>\n",
       "      <td>126.848592</td>\n",
       "    </tr>\n",
       "    <tr>\n",
       "      <th>21</th>\n",
       "      <td>RR Pant</td>\n",
       "      <td>2851</td>\n",
       "      <td>34.768293</td>\n",
       "      <td>142.550000</td>\n",
       "    </tr>\n",
       "    <tr>\n",
       "      <th>22</th>\n",
       "      <td>PA Patel</td>\n",
       "      <td>2848</td>\n",
       "      <td>22.603175</td>\n",
       "      <td>116.625717</td>\n",
       "    </tr>\n",
       "    <tr>\n",
       "      <th>23</th>\n",
       "      <td>JC Buttler</td>\n",
       "      <td>2832</td>\n",
       "      <td>39.333333</td>\n",
       "      <td>144.859335</td>\n",
       "    </tr>\n",
       "    <tr>\n",
       "      <th>24</th>\n",
       "      <td>SS Iyer</td>\n",
       "      <td>2780</td>\n",
       "      <td>31.235955</td>\n",
       "      <td>121.132898</td>\n",
       "    </tr>\n",
       "    <tr>\n",
       "      <th>25</th>\n",
       "      <td>Q de Kock</td>\n",
       "      <td>2767</td>\n",
       "      <td>31.804598</td>\n",
       "      <td>130.951254</td>\n",
       "    </tr>\n",
       "    <tr>\n",
       "      <th>26</th>\n",
       "      <td>Yuvraj Singh</td>\n",
       "      <td>2754</td>\n",
       "      <td>24.810811</td>\n",
       "      <td>124.784776</td>\n",
       "    </tr>\n",
       "    <tr>\n",
       "      <th>27</th>\n",
       "      <td>V Sehwag</td>\n",
       "      <td>2728</td>\n",
       "      <td>27.555556</td>\n",
       "      <td>148.827059</td>\n",
       "    </tr>\n",
       "    <tr>\n",
       "      <th>28</th>\n",
       "      <td>SA Yadav</td>\n",
       "      <td>2644</td>\n",
       "      <td>29.707865</td>\n",
       "      <td>134.009123</td>\n",
       "    </tr>\n",
       "    <tr>\n",
       "      <th>29</th>\n",
       "      <td>M Vijay</td>\n",
       "      <td>2619</td>\n",
       "      <td>25.930693</td>\n",
       "      <td>118.614130</td>\n",
       "    </tr>\n",
       "    <tr>\n",
       "      <th>30</th>\n",
       "      <td>RA Jadeja</td>\n",
       "      <td>2502</td>\n",
       "      <td>26.617021</td>\n",
       "      <td>122.108346</td>\n",
       "    </tr>\n",
       "    <tr>\n",
       "      <th>31</th>\n",
       "      <td>SPD Smith</td>\n",
       "      <td>2495</td>\n",
       "      <td>34.652778</td>\n",
       "      <td>124.812406</td>\n",
       "    </tr>\n",
       "    <tr>\n",
       "      <th>32</th>\n",
       "      <td>SE Marsh</td>\n",
       "      <td>2489</td>\n",
       "      <td>39.507937</td>\n",
       "      <td>130.109775</td>\n",
       "    </tr>\n",
       "    <tr>\n",
       "      <th>33</th>\n",
       "      <td>DA Miller</td>\n",
       "      <td>2455</td>\n",
       "      <td>36.102941</td>\n",
       "      <td>133.569097</td>\n",
       "    </tr>\n",
       "    <tr>\n",
       "      <th>34</th>\n",
       "      <td>JH Kallis</td>\n",
       "      <td>2427</td>\n",
       "      <td>28.552941</td>\n",
       "      <td>105.936272</td>\n",
       "    </tr>\n",
       "    <tr>\n",
       "      <th>35</th>\n",
       "      <td>WP Saha</td>\n",
       "      <td>2427</td>\n",
       "      <td>25.281250</td>\n",
       "      <td>124.397745</td>\n",
       "    </tr>\n",
       "    <tr>\n",
       "      <th>36</th>\n",
       "      <td>DR Smith</td>\n",
       "      <td>2385</td>\n",
       "      <td>28.392857</td>\n",
       "      <td>132.279534</td>\n",
       "    </tr>\n",
       "    <tr>\n",
       "      <th>37</th>\n",
       "      <td>MA Agarwal</td>\n",
       "      <td>2335</td>\n",
       "      <td>22.669903</td>\n",
       "      <td>129.506378</td>\n",
       "    </tr>\n",
       "    <tr>\n",
       "      <th>38</th>\n",
       "      <td>SR Tendulkar</td>\n",
       "      <td>2334</td>\n",
       "      <td>33.826087</td>\n",
       "      <td>114.187867</td>\n",
       "    </tr>\n",
       "    <tr>\n",
       "      <th>39</th>\n",
       "      <td>GJ Maxwell</td>\n",
       "      <td>2320</td>\n",
       "      <td>25.494505</td>\n",
       "      <td>147.676639</td>\n",
       "    </tr>\n",
       "    <tr>\n",
       "      <th>40</th>\n",
       "      <td>N Rana</td>\n",
       "      <td>2181</td>\n",
       "      <td>27.961538</td>\n",
       "      <td>130.053667</td>\n",
       "    </tr>\n",
       "    <tr>\n",
       "      <th>41</th>\n",
       "      <td>R Dravid</td>\n",
       "      <td>2174</td>\n",
       "      <td>28.233766</td>\n",
       "      <td>113.347237</td>\n",
       "    </tr>\n",
       "    <tr>\n",
       "      <th>42</th>\n",
       "      <td>KS Williamson</td>\n",
       "      <td>2105</td>\n",
       "      <td>36.293103</td>\n",
       "      <td>123.315759</td>\n",
       "    </tr>\n",
       "    <tr>\n",
       "      <th>43</th>\n",
       "      <td>AJ Finch</td>\n",
       "      <td>2092</td>\n",
       "      <td>24.904762</td>\n",
       "      <td>123.349057</td>\n",
       "    </tr>\n",
       "    <tr>\n",
       "      <th>44</th>\n",
       "      <td>AC Gilchrist</td>\n",
       "      <td>2069</td>\n",
       "      <td>27.223684</td>\n",
       "      <td>133.054662</td>\n",
       "    </tr>\n",
       "    <tr>\n",
       "      <th>45</th>\n",
       "      <td>AD Russell</td>\n",
       "      <td>2039</td>\n",
       "      <td>29.985294</td>\n",
       "      <td>168.234323</td>\n",
       "    </tr>\n",
       "    <tr>\n",
       "      <th>46</th>\n",
       "      <td>JP Duminy</td>\n",
       "      <td>2029</td>\n",
       "      <td>39.784314</td>\n",
       "      <td>120.773810</td>\n",
       "    </tr>\n",
       "    <tr>\n",
       "      <th>47</th>\n",
       "      <td>MEK Hussey</td>\n",
       "      <td>1977</td>\n",
       "      <td>38.764706</td>\n",
       "      <td>119.963592</td>\n",
       "    </tr>\n",
       "    <tr>\n",
       "      <th>48</th>\n",
       "      <td>HH Pandya</td>\n",
       "      <td>1972</td>\n",
       "      <td>29.878788</td>\n",
       "      <td>140.256046</td>\n",
       "    </tr>\n",
       "    <tr>\n",
       "      <th>49</th>\n",
       "      <td>Shubman Gill</td>\n",
       "      <td>1900</td>\n",
       "      <td>32.203390</td>\n",
       "      <td>122.186495</td>\n",
       "    </tr>\n",
       "  </tbody>\n",
       "</table>\n",
       "</div>"
      ],
      "text/plain": [
       "            batter  runs        avg  strike_rate\n",
       "0          V Kohli  6634  36.251366   125.977972\n",
       "1         S Dhawan  6244  34.882682   122.840842\n",
       "2        DA Warner  5883  41.429577   136.401577\n",
       "3        RG Sharma  5881  30.314433   126.964594\n",
       "4         SK Raina  5536  32.374269   132.535312\n",
       "5   AB de Villiers  5181  39.853846   148.580442\n",
       "6         CH Gayle  4997  39.658730   142.121729\n",
       "7         MS Dhoni  4978  39.196850   130.931089\n",
       "8       RV Uthappa  4954  27.522222   126.152279\n",
       "9       KD Karthik  4377  26.852761   129.267572\n",
       "10       G Gambhir  4217  31.007353   119.665153\n",
       "11       AT Rayudu  4190  28.896552   124.148148\n",
       "12       AM Rahane  4074  30.863636   117.575758\n",
       "13        KL Rahul  3895  46.927711   132.799182\n",
       "14       SR Watson  3880  30.793651   134.163209\n",
       "15       MK Pandey  3657  29.731707   117.739858\n",
       "16       SV Samson  3526  29.140496   132.407060\n",
       "17      KA Pollard  3437  28.404959   140.457703\n",
       "18    F du Plessis  3403  34.373737   127.167414\n",
       "19       YK Pathan  3222  29.290909   138.046272\n",
       "20     BB McCullum  2882  27.711538   126.848592\n",
       "21         RR Pant  2851  34.768293   142.550000\n",
       "22        PA Patel  2848  22.603175   116.625717\n",
       "23      JC Buttler  2832  39.333333   144.859335\n",
       "24         SS Iyer  2780  31.235955   121.132898\n",
       "25       Q de Kock  2767  31.804598   130.951254\n",
       "26    Yuvraj Singh  2754  24.810811   124.784776\n",
       "27        V Sehwag  2728  27.555556   148.827059\n",
       "28        SA Yadav  2644  29.707865   134.009123\n",
       "29         M Vijay  2619  25.930693   118.614130\n",
       "30       RA Jadeja  2502  26.617021   122.108346\n",
       "31       SPD Smith  2495  34.652778   124.812406\n",
       "32        SE Marsh  2489  39.507937   130.109775\n",
       "33       DA Miller  2455  36.102941   133.569097\n",
       "34       JH Kallis  2427  28.552941   105.936272\n",
       "35         WP Saha  2427  25.281250   124.397745\n",
       "36        DR Smith  2385  28.392857   132.279534\n",
       "37      MA Agarwal  2335  22.669903   129.506378\n",
       "38    SR Tendulkar  2334  33.826087   114.187867\n",
       "39      GJ Maxwell  2320  25.494505   147.676639\n",
       "40          N Rana  2181  27.961538   130.053667\n",
       "41        R Dravid  2174  28.233766   113.347237\n",
       "42   KS Williamson  2105  36.293103   123.315759\n",
       "43        AJ Finch  2092  24.904762   123.349057\n",
       "44    AC Gilchrist  2069  27.223684   133.054662\n",
       "45      AD Russell  2039  29.985294   168.234323\n",
       "46       JP Duminy  2029  39.784314   120.773810\n",
       "47      MEK Hussey  1977  38.764706   119.963592\n",
       "48       HH Pandya  1972  29.878788   140.256046\n",
       "49    Shubman Gill  1900  32.203390   122.186495"
      ]
     },
     "execution_count": 12,
     "metadata": {},
     "output_type": "execute_result"
    }
   ],
   "source": [
    "# scatter on pandas dataset\n",
    "df = pd.read_csv('c:/Users/hp/Downloads/batter.csv')\n",
    "df = df.head(50)\n",
    "df"
   ]
  },
  {
   "cell_type": "code",
   "execution_count": 13,
   "id": "54312f35",
   "metadata": {},
   "outputs": [
    {
     "data": {
      "text/plain": [
       "<matplotlib.collections.PathCollection at 0x213d5c35010>"
      ]
     },
     "execution_count": 13,
     "metadata": {},
     "output_type": "execute_result"
    },
    {
     "data": {
      "image/png": "[encoded data removed]",
      "text/plain": [
       "<Figure size 640x480 with 1 Axes>"
      ]
     },
     "metadata": {},
     "output_type": "display_data"
    }
   ],
   "source": [
    "plt.scatter(df['avg'], df['strike_rate'])"
   ]
  },
  {
   "cell_type": "code",
   "execution_count": 14,
   "id": "65cd6f80",
   "metadata": {},
   "outputs": [
    {
     "data": {
      "text/plain": [
       "Text(0, 0.5, 'SR')"
      ]
     },
     "execution_count": 14,
     "metadata": {},
     "output_type": "execute_result"
    },
    {
     "data": {
      "image/png": "[encoded data removed]",
      "text/plain": [
       "<Figure size 640x480 with 1 Axes>"
      ]
     },
     "metadata": {},
     "output_type": "display_data"
    }
   ],
   "source": [
    "plt.scatter(df['avg'],df['strike_rate'],color='red',marker='+')\n",
    "plt.title('Avg and SR analysis of Top 50 Batsman')\n",
    "plt.xlabel('Average')\n",
    "plt.ylabel('SR')"
   ]
  },
  {
   "cell_type": "code",
   "execution_count": 16,
   "id": "974758fd",
   "metadata": {},
   "outputs": [
    {
     "data": {
      "text/plain": [
       "<matplotlib.collections.PathCollection at 0x213d5bf5f70>"
      ]
     },
     "execution_count": 16,
     "metadata": {},
     "output_type": "execute_result"
    },
    {
     "data": {
      "image/png": "[encoded data removed]",
      "text/plain": [
       "<Figure size 640x480 with 1 Axes>"
      ]
     },
     "metadata": {},
     "output_type": "display_data"
    }
   ],
   "source": [
    "# size\n",
    "tips = sns.load_dataset('tips')\n",
    "plt.scatter(tips['total_bill'],tips['tip'],s=tips['size']*20)"
   ]
  },
  {
   "cell_type": "code",
   "execution_count": null,
   "id": "4ee46e40",
   "metadata": {},
   "outputs": [],
   "source": []
  }
 ],
 "metadata": {
  "kernelspec": {
   "display_name": "Python 3",
   "language": "python",
   "name": "python3"
  },
  "language_info": {
   "codemirror_mode": {
    "name": "ipython",
    "version": 3
   },
   "file_extension": ".py",
   "mimetype": "text/x-python",
   "name": "python",
   "nbconvert_exporter": "python",
   "pygments_lexer": "ipython3",
   "version": "3.12.2"
  }
 },
 "nbformat": 4,
 "nbformat_minor": 5
}
