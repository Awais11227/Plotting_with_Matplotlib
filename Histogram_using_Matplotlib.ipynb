{
 "cells": [
  {
   "cell_type": "markdown",
   "id": "ee6c6a65",
   "metadata": {},
   "source": [
    "# Histogram\n",
    "\n",
    "- Univariate Analysis\n",
    "- Numerical col\n",
    "- Use case - Frequency Count"
   ]
  },
  {
   "cell_type": "code",
   "execution_count": 1,
   "id": "27dd99ac",
   "metadata": {},
   "outputs": [],
   "source": [
    "# import the library\n",
    "import numpy as np\n",
    "import pandas as pd\n",
    "import matplotlib.pyplot as plt\n",
    "import seaborn as sns"
   ]
  },
  {
   "cell_type": "code",
   "execution_count": 2,
   "id": "e2fe8dd8",
   "metadata": {},
   "outputs": [
    {
     "data": {
      "text/plain": [
       "(array([2., 0., 0., 1., 1., 0., 1., 0., 0., 2.]),\n",
       " array([10. , 15.1, 20.2, 25.3, 30.4, 35.5, 40.6, 45.7, 50.8, 55.9, 61. ]),\n",
       " <BarContainer object of 10 artists>)"
      ]
     },
     "execution_count": 2,
     "metadata": {},
     "output_type": "execute_result"
    },
    {
     "data": {
      "image/png": "[encoded data removed]",
      "text/plain": [
       "<Figure size 640x480 with 1 Axes>"
      ]
     },
     "metadata": {},
     "output_type": "display_data"
    }
   ],
   "source": [
    "# simple data\n",
    "\n",
    "data = [32,45,56,10,15,27,61]\n",
    "\n",
    "plt.hist(data)"
   ]
  },
  {
   "cell_type": "code",
   "execution_count": 3,
   "id": "f2af5747",
   "metadata": {},
   "outputs": [
    {
     "data": {
      "text/plain": [
       "(array([2., 2., 1., 2.]),\n",
       " array([10., 25., 40., 55., 70.]),\n",
       " <BarContainer object of 4 artists>)"
      ]
     },
     "execution_count": 3,
     "metadata": {},
     "output_type": "execute_result"
    },
    {
     "data": {
      "image/png": "[encoded data removed]",
      "text/plain": [
       "<Figure size 640x480 with 1 Axes>"
      ]
     },
     "metadata": {},
     "output_type": "display_data"
    }
   ],
   "source": [
    "# simple data\n",
    "\n",
    "data = [32,45,56,10,15,27,61]\n",
    "\n",
    "plt.hist(data,bins=[10,25,40,55,70])"
   ]
  },
  {
   "cell_type": "code",
   "execution_count": 5,
   "id": "90e87c0f",
   "metadata": {},
   "outputs": [
    {
     "data": {
      "application/vnd.microsoft.datawrangler.viewer.v0+json": {
       "columns": [
        {
         "name": "index",
         "rawType": "int64",
         "type": "integer"
        },
        {
         "name": "match_id",
         "rawType": "int64",
         "type": "integer"
        },
        {
         "name": "batsman_runs",
         "rawType": "int64",
         "type": "integer"
        }
       ],
       "ref": "e5510989-b991-40d4-be70-2192ea8af183",
       "rows": [
        [
         "0",
         "12",
         "62"
        ],
        [
         "1",
         "17",
         "28"
        ],
        [
         "2",
         "20",
         "64"
        ],
        [
         "3",
         "27",
         "0"
        ],
        [
         "4",
         "30",
         "10"
        ],
        [
         "5",
         "33",
         "55"
        ],
        [
         "6",
         "37",
         "20"
        ],
        [
         "7",
         "42",
         "6"
        ],
        [
         "8",
         "45",
         "5"
        ],
        [
         "9",
         "55",
         "58"
        ],
        [
         "10",
         "60",
         "1"
        ],
        [
         "11",
         "63",
         "23"
        ],
        [
         "12",
         "70",
         "13"
        ],
        [
         "13",
         "74",
         "12"
        ],
        [
         "14",
         "76",
         "1"
        ],
        [
         "15",
         "80",
         "9"
        ],
        [
         "16",
         "84",
         "34"
        ],
        [
         "17",
         "90",
         "0"
        ],
        [
         "18",
         "94",
         "21"
        ],
        [
         "19",
         "101",
         "3"
        ],
        [
         "20",
         "107",
         "10"
        ],
        [
         "21",
         "111",
         "38"
        ],
        [
         "22",
         "119",
         "3"
        ],
        [
         "23",
         "122",
         "11"
        ],
        [
         "24",
         "124",
         "50"
        ],
        [
         "25",
         "127",
         "2"
        ],
        [
         "26",
         "129",
         "22"
        ],
        [
         "27",
         "134",
         "19"
        ],
        [
         "28",
         "139",
         "16"
        ],
        [
         "29",
         "148",
         "15"
        ],
        [
         "30",
         "153",
         "20"
        ],
        [
         "31",
         "159",
         "38"
        ],
        [
         "32",
         "171",
         "19"
        ],
        [
         "33",
         "173",
         "24"
        ],
        [
         "34",
         "174",
         "7"
        ],
        [
         "35",
         "178",
         "2"
        ],
        [
         "36",
         "181",
         "16"
        ],
        [
         "37",
         "188",
         "17"
        ],
        [
         "38",
         "192",
         "24"
        ],
        [
         "39",
         "197",
         "38"
        ],
        [
         "40",
         "202",
         "34"
        ],
        [
         "41",
         "205",
         "42"
        ],
        [
         "42",
         "209",
         "13"
        ],
        [
         "43",
         "214",
         "58"
        ],
        [
         "44",
         "220",
         "3"
        ],
        [
         "45",
         "223",
         "14"
        ],
        [
         "46",
         "226",
         "37"
        ],
        [
         "47",
         "231",
         "9"
        ],
        [
         "48",
         "237",
         "23"
        ],
        [
         "49",
         "242",
         "12"
        ]
       ],
       "shape": {
        "columns": 2,
        "rows": 141
       }
      },
      "text/html": [
       "<div>\n",
       "<style scoped>\n",
       "    .dataframe tbody tr th:only-of-type {\n",
       "        vertical-align: middle;\n",
       "    }\n",
       "\n",
       "    .dataframe tbody tr th {\n",
       "        vertical-align: top;\n",
       "    }\n",
       "\n",
       "    .dataframe thead th {\n",
       "        text-align: right;\n",
       "    }\n",
       "</style>\n",
       "<table border=\"1\" class=\"dataframe\">\n",
       "  <thead>\n",
       "    <tr style=\"text-align: right;\">\n",
       "      <th></th>\n",
       "      <th>match_id</th>\n",
       "      <th>batsman_runs</th>\n",
       "    </tr>\n",
       "  </thead>\n",
       "  <tbody>\n",
       "    <tr>\n",
       "      <th>0</th>\n",
       "      <td>12</td>\n",
       "      <td>62</td>\n",
       "    </tr>\n",
       "    <tr>\n",
       "      <th>1</th>\n",
       "      <td>17</td>\n",
       "      <td>28</td>\n",
       "    </tr>\n",
       "    <tr>\n",
       "      <th>2</th>\n",
       "      <td>20</td>\n",
       "      <td>64</td>\n",
       "    </tr>\n",
       "    <tr>\n",
       "      <th>3</th>\n",
       "      <td>27</td>\n",
       "      <td>0</td>\n",
       "    </tr>\n",
       "    <tr>\n",
       "      <th>4</th>\n",
       "      <td>30</td>\n",
       "      <td>10</td>\n",
       "    </tr>\n",
       "    <tr>\n",
       "      <th>...</th>\n",
       "      <td>...</td>\n",
       "      <td>...</td>\n",
       "    </tr>\n",
       "    <tr>\n",
       "      <th>136</th>\n",
       "      <td>624</td>\n",
       "      <td>75</td>\n",
       "    </tr>\n",
       "    <tr>\n",
       "      <th>137</th>\n",
       "      <td>626</td>\n",
       "      <td>113</td>\n",
       "    </tr>\n",
       "    <tr>\n",
       "      <th>138</th>\n",
       "      <td>632</td>\n",
       "      <td>54</td>\n",
       "    </tr>\n",
       "    <tr>\n",
       "      <th>139</th>\n",
       "      <td>633</td>\n",
       "      <td>0</td>\n",
       "    </tr>\n",
       "    <tr>\n",
       "      <th>140</th>\n",
       "      <td>636</td>\n",
       "      <td>54</td>\n",
       "    </tr>\n",
       "  </tbody>\n",
       "</table>\n",
       "<p>141 rows × 2 columns</p>\n",
       "</div>"
      ],
      "text/plain": [
       "     match_id  batsman_runs\n",
       "0          12            62\n",
       "1          17            28\n",
       "2          20            64\n",
       "3          27             0\n",
       "4          30            10\n",
       "..        ...           ...\n",
       "136       624            75\n",
       "137       626           113\n",
       "138       632            54\n",
       "139       633             0\n",
       "140       636            54\n",
       "\n",
       "[141 rows x 2 columns]"
      ]
     },
     "execution_count": 5,
     "metadata": {},
     "output_type": "execute_result"
    }
   ],
   "source": [
    "df = pd.read_csv('c:/Users/hp/Downloads/vk.csv')\n",
    "df"
   ]
  },
  {
   "cell_type": "code",
   "execution_count": 6,
   "id": "00241de3",
   "metadata": {},
   "outputs": [
    {
     "data": {
      "text/plain": [
       "(array([[ 12.,  14.,  12.,  14.,  14.,  13.,  14.,  15.,  15.,  18.],\n",
       "        [122.,  19.,   0.,   0.,   0.,   0.,   0.,   0.,   0.,   0.]]),\n",
       " array([  0. ,  63.6, 127.2, 190.8, 254.4, 318. , 381.6, 445.2, 508.8,\n",
       "        572.4, 636. ]),\n",
       " <a list of 2 BarContainer objects>)"
      ]
     },
     "execution_count": 6,
     "metadata": {},
     "output_type": "execute_result"
    },
    {
     "data": {
      "image/png": "[encoded data removed]",
      "text/plain": [
       "<Figure size 640x480 with 1 Axes>"
      ]
     },
     "metadata": {},
     "output_type": "display_data"
    }
   ],
   "source": [
    "plt.hist(df)"
   ]
  },
  {
   "cell_type": "code",
   "execution_count": 13,
   "id": "8afc59a1",
   "metadata": {},
   "outputs": [
    {
     "data": {
      "text/plain": [
       "(array([32., 29., 17., 21.,  7., 14.,  6.,  7.,  2.,  2.,  3.,  1.]),\n",
       " array([  0.,  10.,  20.,  30.,  40.,  50.,  60.,  70.,  80.,  90., 100.,\n",
       "        110., 120.]),\n",
       " <BarContainer object of 12 artists>)"
      ]
     },
     "execution_count": 13,
     "metadata": {},
     "output_type": "execute_result"
    },
    {
     "data": {
      "image/png": "[encoded data removed]",
      "text/plain": [
       "<Figure size 640x480 with 1 Axes>"
      ]
     },
     "metadata": {},
     "output_type": "display_data"
    }
   ],
   "source": [
    "plt.hist(df['batsman_runs'], bins=[0,10,20,30,40,50,60,70,80,90,100,110,120])"
   ]
  },
  {
   "cell_type": "code",
   "execution_count": null,
   "id": "f4e6ec67",
   "metadata": {},
   "outputs": [],
   "source": []
  }
 ],
 "metadata": {
  "kernelspec": {
   "display_name": "Python 3",
   "language": "python",
   "name": "python3"
  },
  "language_info": {
   "codemirror_mode": {
    "name": "ipython",
    "version": 3
   },
   "file_extension": ".py",
   "mimetype": "text/x-python",
   "name": "python",
   "nbconvert_exporter": "python",
   "pygments_lexer": "ipython3",
   "version": "3.12.2"
  }
 },
 "nbformat": 4,
 "nbformat_minor": 5
}
